{
 "cells": [
  {
   "cell_type": "markdown",
   "metadata": {},
   "source": [
    "# **2. Model Fine-Tuning with Triplet Loss**\n",
    "\n",
    "**Project:** FashionCLIP (The Seeker)\n",
    "**Author:** [Tu Nombre]\n",
    "**Goal:** This notebook uses the dataset created in the previous step to fine-tune a CLIP-based `ImageEncoderNetwork` using a custom triplet loss function.\n",
    "\n",
    "---\n",
    "\n",
    "### **Overview**\n",
    "\n",
    "The goal is to train our model to map images into a high-dimensional vector space where the distance between vectors reflects semantic similarity. An anchor image's embedding should be closer to its positive partner's than to its negative partner's.\n",
    "\n",
    "This is achieved through the following steps:\n",
    "1.  **Setup**: Import libraries and configure paths.\n",
    "2.  **Data Loading**: Load the generated dataset and prepare it for PyTorch.\n",
    "3.  **Model & Loss**: Initialize the `ImageEncoderNetwork` and our custom `TripletSemiPosMarginWithDistanceLoss`.\n",
    "4.  **Training**: Execute the training loop, validate on a hold-out set, and save the best model."
   ]
  },
  {
   "cell_type": "code",
   "execution_count": 3,
   "metadata": {},
   "outputs": [],
   "source": [
    "import sys\n",
    "import os\n",
    "import torch\n",
    "import torch.nn as nn\n",
    "# from dataclasses import dataclass, field\n",
    "\n",
    "from transformers import (\n",
    "    AutoImageProcessor,\n",
    "    AutoModel)\n",
    "\n",
    "module_path = os.path.abspath(os.path.join('..'))\n",
    "if module_path not in sys.path:\n",
    "    sys.path.append(module_path)\n",
    "\n",
    "from src.models.models import ImageEncoderNetwork, learning_loop\n",
    "\n",
    "\n",
    "\n",
    "current_path = os.getcwd()\n",
    "dir = current_path.split('/')[-1]\n",
    "# proof of mac!\n",
    "if dir in ['research', 'dataprep', 'src']:\n",
    "    current_path = '/'.join(current_path.split('/')[:-1])\n",
    "PROJECT_PATH = current_path"
   ]
  },
  {
   "cell_type": "markdown",
   "metadata": {},
   "source": [
    "### **2.1. Data Loading and Preparation**\n",
    "\n",
    "Here, we load the dataset created by `01_generate_triplet_input.ipynb`. We then create PyTorch `DataLoader` objects for the training and validation sets. These loaders will handle batching, shuffling, and feeding the data to the GPU efficiently."
   ]
  },
  {
   "cell_type": "code",
   "execution_count": null,
   "metadata": {},
   "outputs": [],
   "source": [
    "from datasets import load_from_disk\n",
    "from src.models.datasets import mac_path_format\n",
    "\n",
    "dataset_path = f'{PROJECT_PATH}/data/datasets/uncropped_triplet_toy_semipos'\n",
    "dataset = load_from_disk(dataset_path)\n",
    "\n",
    "if device == 'mps':\n",
    "    dataset = dataset.map(mac_path_format)\n",
    "# dataset[0\n",
    "\n",
    "# Will show something like this\n",
    "# {'anchor': 'path_to_anchor.png',\n",
    "#  'pos': 'path_to_pos_image.png',\n",
    "#  'neg': 'path_to_neg_image.png',\n",
    "#  'semipos': 0.08,\n",
    "#  'caption': 'than it otherwise might.\"'}"
   ]
  },
  {
   "cell_type": "code",
   "execution_count": null,
   "metadata": {},
   "outputs": [],
   "source": [
    "from PIL import Image\n",
    "\n",
    "from src.models.utils import display_triplet\n",
    "# display sample of images (hidden)    \n",
    "# display_triplet(dataset, 1305)"
   ]
  },
  {
   "cell_type": "code",
   "execution_count": 9,
   "metadata": {},
   "outputs": [
    {
     "name": "stderr",
     "output_type": "stream",
     "text": [
      "                                                                                            \r"
     ]
    },
    {
     "data": {
      "text/plain": [
       "DatasetDict({\n",
       "    train: Dataset({\n",
       "        features: ['anchor', 'pos', 'neg', 'semipos', 'caption', 'anchor_image', 'pos_image', 'neg_image'],\n",
       "        num_rows: 1216\n",
       "    })\n",
       "    test: Dataset({\n",
       "        features: ['anchor', 'pos', 'neg', 'semipos', 'caption', 'anchor_image', 'pos_image', 'neg_image'],\n",
       "        num_rows: 304\n",
       "    })\n",
       "})"
      ]
     },
     "execution_count": 9,
     "metadata": {},
     "output_type": "execute_result"
    }
   ],
   "source": [
    "from datasets import load_from_disk\n",
    "from src.models.datasets import load_images\n",
    "\n",
    "# dataset = dataset.map(load_images, \n",
    "#                       fn_kwargs={'image_processor': image_processor}).with_format(\"torch\")\n",
    "# dataset = dataset.train_test_split(test_size=0.2)\n",
    "\n",
    "# dataset.save_to_disk(f'{PROJECT_PATH}/data/datasets/uncropped_final')\n",
    "dataset = load_from_disk(f'{PROJECT_PATH}/data/datasets/uncropped_final')\n",
    "dataset"
   ]
  },
  {
   "cell_type": "code",
   "execution_count": null,
   "metadata": {},
   "outputs": [],
   "source": [
    "from torch.utils.data import DataLoader\n",
    "train_dataloader = DataLoader(dataset['train'], batch_size=64, shuffle=True)\n",
    "val_dataloader = DataLoader(dataset['test'], batch_size=64, shuffle=True)\n",
    "# next(iter(train_dataloader))"
   ]
  },
  {
   "cell_type": "code",
   "execution_count": 9,
   "metadata": {},
   "outputs": [
    {
     "data": {
      "text/plain": [
       "dict_keys(['anchor', 'pos', 'neg', 'semipos', 'caption', 'anchor_image', 'pos_image', 'neg_image'])"
      ]
     },
     "execution_count": 9,
     "metadata": {},
     "output_type": "execute_result"
    }
   ],
   "source": [
    "b = next(iter(train_dataloader))\n",
    "b.keys()"
   ]
  },
  {
   "cell_type": "markdown",
   "metadata": {},
   "source": [
    "### **2.3. Model, Optimizer, and Loss Function**\n",
    "\n",
    "This is the core of our training setup:\n",
    "\n",
    "1.  **Model**: We initialize `ImageEncoderNetwork`, which uses a pre-trained CLIP vision model as its backbone. We load the official weights from `openai/clip-vit-base-patch32` to leverage transfer learning.\n",
    "2.  **Loss Function**: We use our custom `TripletSemiPosMarginWithDistanceLoss` from `src/losses.py`. This loss is critical for teaching the model the desired embedding structure.\n",
    "3.  **Optimizer**: We use the AdamW optimizer, a standard choice for transformer-based models.\n",
    "4.  **Scheduler**: A learning rate scheduler (`ReduceLROnPlateau`) is used to decrease the learning rate if the validation loss stops improving, helping the model to converge to a better minimum."
   ]
  },
  {
   "cell_type": "code",
   "execution_count": 4,
   "metadata": {},
   "outputs": [],
   "source": [
    "device = 'mps' if torch.backends.mps.is_available()  else 'cuda' if torch.cuda.is_available() else 'cpu'\n",
    "\n",
    "model_path = f'{PROJECT_PATH}/data/models/OCR_clip-roberta-finetuned'\n",
    "clip = AutoModel.from_pretrained(model_path)\n",
    "\n",
    "image_processor = AutoImageProcessor.from_pretrained(model_path)\n",
    "# processor = VisionTextDualEncoderProcessor(image_processor, tokenizer)\n",
    "model = ImageEncoderNetwork()\n",
    "model.load_from_clip(clip)\n",
    "model = model.to(device)\n",
    "del clip"
   ]
  },
  {
   "cell_type": "markdown",
   "metadata": {},
   "source": [
    "### **2.4. The Training Loop**\n",
    "\n",
    "The `learning_loop` function encapsulates the entire training process. For each epoch, it performs a full pass over the training data to update the model's weights and then evaluates the model on the validation set.\n",
    "\n",
    "Key features of this loop:\n",
    "-   **Validation**: After each epoch, performance is measured on the validation set.\n",
    "-   **Early Stopping**: The loop monitors the validation loss and will stop training if it fails to improve for a set number of `patience` epochs, preventing overfitting.\n",
    "-   **Model Checkpointing**: The version of the model with the best validation score is saved to `best.pt`. This ensures we always keep the best-performing model."
   ]
  },
  {
   "cell_type": "code",
   "execution_count": 7,
   "metadata": {},
   "outputs": [
    {
     "name": "stdout",
     "output_type": "stream",
     "text": [
      "Learning phase\n",
      "Used device: cuda\n",
      "--------------\n",
      "Epoch 001/030\n"
     ]
    },
    {
     "name": "stderr",
     "output_type": "stream",
     "text": [
      "  0%|          | 0/20 [00:00<?, ?it/s]"
     ]
    },
    {
     "name": "stderr",
     "output_type": "stream",
     "text": [
      "100%|██████████| 20/20 [00:44<00:00,  2.25s/it, batch=20/20, lr=1e-5, train_loss=1.08] \n",
      "100%|██████████| 5/5 [00:08<00:00,  1.80s/it, batch=5/5, dev_loss=1]   \n"
     ]
    },
    {
     "name": "stdout",
     "output_type": "stream",
     "text": [
      "Finished epoch 001/030 - Train loss: 1.0609421 - Valid loss: 1.0793333 - SAVED (NEW) BEST MODEL. Duration: 53.953 s\n",
      "Epoch 002/030\n"
     ]
    },
    {
     "name": "stderr",
     "output_type": "stream",
     "text": [
      "100%|██████████| 20/20 [00:41<00:00,  2.05s/it, batch=20/20, lr=1e-5, train_loss=1.05] \n",
      "100%|██████████| 5/5 [00:09<00:00,  1.83s/it, batch=5/5, dev_loss=1.08]\n"
     ]
    },
    {
     "name": "stdout",
     "output_type": "stream",
     "text": [
      "Finished epoch 002/030 - Train loss: 0.9988939 - Valid loss: 1.1044528 - NUMBER OF BAD EPOCH.S: 1. Duration: 50.153 s\n",
      "Epoch 003/030\n"
     ]
    },
    {
     "name": "stderr",
     "output_type": "stream",
     "text": [
      "100%|██████████| 20/20 [00:40<00:00,  2.04s/it, batch=20/20, lr=1e-5, train_loss=0.668]\n",
      "100%|██████████| 5/5 [00:08<00:00,  1.77s/it, batch=5/5, dev_loss=1.13]\n"
     ]
    },
    {
     "name": "stdout",
     "output_type": "stream",
     "text": [
      "Finished epoch 003/030 - Train loss: 0.9127808 - Valid loss: 1.0760817 - SAVED (NEW) BEST MODEL. Duration: 49.747 s\n",
      "Epoch 004/030\n"
     ]
    },
    {
     "name": "stderr",
     "output_type": "stream",
     "text": [
      "100%|██████████| 20/20 [00:41<00:00,  2.08s/it, batch=20/20, lr=1e-5, train_loss=0.821]\n",
      "100%|██████████| 5/5 [00:08<00:00,  1.78s/it, batch=5/5, dev_loss=0.918]\n"
     ]
    },
    {
     "name": "stdout",
     "output_type": "stream",
     "text": [
      "Finished epoch 004/030 - Train loss: 0.8126458 - Valid loss: 0.9516670 - SAVED (NEW) BEST MODEL. Duration: 50.428 s\n",
      "Epoch 005/030\n"
     ]
    },
    {
     "name": "stderr",
     "output_type": "stream",
     "text": [
      "100%|██████████| 20/20 [00:40<00:00,  2.05s/it, batch=20/20, lr=1e-5, train_loss=0.846]\n",
      "100%|██████████| 5/5 [00:09<00:00,  1.81s/it, batch=5/5, dev_loss=0.871]\n"
     ]
    },
    {
     "name": "stdout",
     "output_type": "stream",
     "text": [
      "Finished epoch 005/030 - Train loss: 0.7705238 - Valid loss: 0.9300179 - SAVED (NEW) BEST MODEL. Duration: 50.022 s\n",
      "Epoch 006/030\n"
     ]
    },
    {
     "name": "stderr",
     "output_type": "stream",
     "text": [
      "100%|██████████| 20/20 [00:41<00:00,  2.07s/it, batch=20/20, lr=1e-5, train_loss=0.793]\n",
      "100%|██████████| 5/5 [00:09<00:00,  1.84s/it, batch=5/5, dev_loss=0.854]\n"
     ]
    },
    {
     "name": "stdout",
     "output_type": "stream",
     "text": [
      "Finished epoch 006/030 - Train loss: 0.7221752 - Valid loss: 0.8467252 - SAVED (NEW) BEST MODEL. Duration: 50.597 s\n",
      "Epoch 007/030\n"
     ]
    },
    {
     "name": "stderr",
     "output_type": "stream",
     "text": [
      "100%|██████████| 20/20 [00:41<00:00,  2.06s/it, batch=20/20, lr=1e-5, train_loss=0.721]\n",
      "100%|██████████| 5/5 [00:09<00:00,  1.83s/it, batch=5/5, dev_loss=0.886]\n"
     ]
    },
    {
     "name": "stdout",
     "output_type": "stream",
     "text": [
      "Finished epoch 007/030 - Train loss: 0.6796598 - Valid loss: 0.9378610 - NUMBER OF BAD EPOCH.S: 1. Duration: 50.358 s\n",
      "Epoch 008/030\n"
     ]
    },
    {
     "name": "stderr",
     "output_type": "stream",
     "text": [
      "100%|██████████| 20/20 [00:41<00:00,  2.08s/it, batch=20/20, lr=1e-5, train_loss=0.721]\n",
      "100%|██████████| 5/5 [00:08<00:00,  1.80s/it, batch=5/5, dev_loss=0.776]\n"
     ]
    },
    {
     "name": "stdout",
     "output_type": "stream",
     "text": [
      "Finished epoch 008/030 - Train loss: 0.7256453 - Valid loss: 0.8041363 - SAVED (NEW) BEST MODEL. Duration: 50.656 s\n",
      "Epoch 009/030\n"
     ]
    },
    {
     "name": "stderr",
     "output_type": "stream",
     "text": [
      "100%|██████████| 20/20 [00:41<00:00,  2.06s/it, batch=20/20, lr=1e-5, train_loss=0.71] \n",
      "100%|██████████| 5/5 [00:09<00:00,  1.82s/it, batch=5/5, dev_loss=0.843]\n"
     ]
    },
    {
     "name": "stdout",
     "output_type": "stream",
     "text": [
      "Finished epoch 009/030 - Train loss: 0.6702419 - Valid loss: 0.7603895 - SAVED (NEW) BEST MODEL. Duration: 50.244 s\n",
      "Epoch 010/030\n"
     ]
    },
    {
     "name": "stderr",
     "output_type": "stream",
     "text": [
      "100%|██████████| 20/20 [00:41<00:00,  2.07s/it, batch=20/20, lr=1e-5, train_loss=0.599]\n",
      "100%|██████████| 5/5 [00:08<00:00,  1.77s/it, batch=5/5, dev_loss=0.597]\n"
     ]
    },
    {
     "name": "stdout",
     "output_type": "stream",
     "text": [
      "Finished epoch 010/030 - Train loss: 0.6141637 - Valid loss: 0.6843726 - SAVED (NEW) BEST MODEL. Duration: 50.237 s\n",
      "Epoch 011/030\n"
     ]
    },
    {
     "name": "stderr",
     "output_type": "stream",
     "text": [
      "100%|██████████| 20/20 [00:41<00:00,  2.08s/it, batch=20/20, lr=1e-5, train_loss=0.497]\n",
      "100%|██████████| 5/5 [00:09<00:00,  1.85s/it, batch=5/5, dev_loss=0.684]\n"
     ]
    },
    {
     "name": "stdout",
     "output_type": "stream",
     "text": [
      "Finished epoch 011/030 - Train loss: 0.5546740 - Valid loss: 0.6448086 - SAVED (NEW) BEST MODEL. Duration: 50.856 s\n",
      "Epoch 012/030\n"
     ]
    },
    {
     "name": "stderr",
     "output_type": "stream",
     "text": [
      "100%|██████████| 20/20 [00:41<00:00,  2.07s/it, batch=20/20, lr=1e-5, train_loss=0.463]\n",
      "100%|██████████| 5/5 [00:09<00:00,  1.84s/it, batch=5/5, dev_loss=0.64] \n"
     ]
    },
    {
     "name": "stdout",
     "output_type": "stream",
     "text": [
      "Finished epoch 012/030 - Train loss: 0.5130757 - Valid loss: 0.5833591 - SAVED (NEW) BEST MODEL. Duration: 50.616 s\n",
      "Epoch 013/030\n"
     ]
    },
    {
     "name": "stderr",
     "output_type": "stream",
     "text": [
      "100%|██████████| 20/20 [00:41<00:00,  2.06s/it, batch=20/20, lr=1e-5, train_loss=0.494]\n",
      "100%|██████████| 5/5 [00:09<00:00,  1.85s/it, batch=5/5, dev_loss=0.527]\n"
     ]
    },
    {
     "name": "stdout",
     "output_type": "stream",
     "text": [
      "Finished epoch 013/030 - Train loss: 0.4672229 - Valid loss: 0.5730131 - SAVED (NEW) BEST MODEL. Duration: 50.566 s\n",
      "Epoch 014/030\n"
     ]
    },
    {
     "name": "stderr",
     "output_type": "stream",
     "text": [
      "100%|██████████| 20/20 [00:40<00:00,  2.05s/it, batch=20/20, lr=1e-5, train_loss=0.642]\n",
      "100%|██████████| 5/5 [00:09<00:00,  1.82s/it, batch=5/5, dev_loss=0.536]\n"
     ]
    },
    {
     "name": "stdout",
     "output_type": "stream",
     "text": [
      "Finished epoch 014/030 - Train loss: 0.4399947 - Valid loss: 0.5429432 - SAVED (NEW) BEST MODEL. Duration: 50.008 s\n",
      "Epoch 015/030\n"
     ]
    },
    {
     "name": "stderr",
     "output_type": "stream",
     "text": [
      "100%|██████████| 20/20 [00:41<00:00,  2.06s/it, batch=20/20, lr=1e-5, train_loss=0.394]\n",
      "100%|██████████| 5/5 [00:09<00:00,  1.82s/it, batch=5/5, dev_loss=0.621]\n"
     ]
    },
    {
     "name": "stdout",
     "output_type": "stream",
     "text": [
      "Finished epoch 015/030 - Train loss: 0.4084833 - Valid loss: 0.4930957 - SAVED (NEW) BEST MODEL. Duration: 50.375 s\n",
      "Epoch 016/030\n"
     ]
    },
    {
     "name": "stderr",
     "output_type": "stream",
     "text": [
      "100%|██████████| 20/20 [00:41<00:00,  2.06s/it, batch=20/20, lr=1e-5, train_loss=0.367]\n",
      "100%|██████████| 5/5 [00:08<00:00,  1.78s/it, batch=5/5, dev_loss=0.425]\n"
     ]
    },
    {
     "name": "stdout",
     "output_type": "stream",
     "text": [
      "Finished epoch 016/030 - Train loss: 0.3615993 - Valid loss: 0.4343035 - SAVED (NEW) BEST MODEL. Duration: 50.112 s\n",
      "Epoch 017/030\n"
     ]
    },
    {
     "name": "stderr",
     "output_type": "stream",
     "text": [
      "100%|██████████| 20/20 [00:41<00:00,  2.08s/it, batch=20/20, lr=1e-5, train_loss=0.452]\n",
      "100%|██████████| 5/5 [00:08<00:00,  1.76s/it, batch=5/5, dev_loss=0.427]\n"
     ]
    },
    {
     "name": "stdout",
     "output_type": "stream",
     "text": [
      "Finished epoch 017/030 - Train loss: 0.3495908 - Valid loss: 0.4114026 - SAVED (NEW) BEST MODEL. Duration: 50.353 s\n",
      "Epoch 018/030\n"
     ]
    },
    {
     "name": "stderr",
     "output_type": "stream",
     "text": [
      "100%|██████████| 20/20 [00:40<00:00,  2.05s/it, batch=20/20, lr=1e-5, train_loss=0.267]\n",
      "100%|██████████| 5/5 [00:08<00:00,  1.80s/it, batch=5/5, dev_loss=0.472]\n"
     ]
    },
    {
     "name": "stdout",
     "output_type": "stream",
     "text": [
      "Finished epoch 018/030 - Train loss: 0.3029065 - Valid loss: 0.3969352 - SAVED (NEW) BEST MODEL. Duration: 49.925 s\n",
      "Epoch 019/030\n"
     ]
    },
    {
     "name": "stderr",
     "output_type": "stream",
     "text": [
      "100%|██████████| 20/20 [00:41<00:00,  2.06s/it, batch=20/20, lr=1e-5, train_loss=0.269]\n",
      "100%|██████████| 5/5 [00:09<00:00,  1.84s/it, batch=5/5, dev_loss=0.388]\n"
     ]
    },
    {
     "name": "stdout",
     "output_type": "stream",
     "text": [
      "Finished epoch 019/030 - Train loss: 0.3003090 - Valid loss: 0.3709843 - SAVED (NEW) BEST MODEL. Duration: 50.484 s\n",
      "Epoch 020/030\n"
     ]
    },
    {
     "name": "stderr",
     "output_type": "stream",
     "text": [
      "100%|██████████| 20/20 [00:40<00:00,  2.04s/it, batch=20/20, lr=1e-5, train_loss=0.356]\n",
      "100%|██████████| 5/5 [00:09<00:00,  1.82s/it, batch=5/5, dev_loss=0.452]\n"
     ]
    },
    {
     "name": "stdout",
     "output_type": "stream",
     "text": [
      "Finished epoch 020/030 - Train loss: 0.2736409 - Valid loss: 0.3933453 - NUMBER OF BAD EPOCH.S: 1. Duration: 49.905 s\n",
      "Epoch 021/030\n"
     ]
    },
    {
     "name": "stderr",
     "output_type": "stream",
     "text": [
      "100%|██████████| 20/20 [00:41<00:00,  2.06s/it, batch=20/20, lr=1e-5, train_loss=0.348]\n",
      "100%|██████████| 5/5 [00:08<00:00,  1.76s/it, batch=5/5, dev_loss=0.24] \n"
     ]
    },
    {
     "name": "stdout",
     "output_type": "stream",
     "text": [
      "Finished epoch 021/030 - Train loss: 0.2632096 - Valid loss: 0.3556644 - SAVED (NEW) BEST MODEL. Duration: 50.048 s\n",
      "Epoch 022/030\n"
     ]
    },
    {
     "name": "stderr",
     "output_type": "stream",
     "text": [
      "100%|██████████| 20/20 [00:41<00:00,  2.05s/it, batch=20/20, lr=1e-5, train_loss=0.151]\n",
      "100%|██████████| 5/5 [00:09<00:00,  1.81s/it, batch=5/5, dev_loss=0.283]\n"
     ]
    },
    {
     "name": "stdout",
     "output_type": "stream",
     "text": [
      "Finished epoch 022/030 - Train loss: 0.2613410 - Valid loss: 0.3438296 - SAVED (NEW) BEST MODEL. Duration: 50.154 s\n",
      "Epoch 023/030\n"
     ]
    },
    {
     "name": "stderr",
     "output_type": "stream",
     "text": [
      "100%|██████████| 20/20 [00:41<00:00,  2.07s/it, batch=20/20, lr=1e-5, train_loss=0.18] \n",
      "100%|██████████| 5/5 [00:09<00:00,  1.81s/it, batch=5/5, dev_loss=0.352]\n"
     ]
    },
    {
     "name": "stdout",
     "output_type": "stream",
     "text": [
      "Finished epoch 023/030 - Train loss: 0.2347304 - Valid loss: 0.3310875 - SAVED (NEW) BEST MODEL. Duration: 50.431 s\n",
      "Epoch 024/030\n"
     ]
    },
    {
     "name": "stderr",
     "output_type": "stream",
     "text": [
      "100%|██████████| 20/20 [00:40<00:00,  2.05s/it, batch=20/20, lr=1e-5, train_loss=0.246]\n",
      "100%|██████████| 5/5 [00:08<00:00,  1.79s/it, batch=5/5, dev_loss=0.346]\n"
     ]
    },
    {
     "name": "stdout",
     "output_type": "stream",
     "text": [
      "Finished epoch 024/030 - Train loss: 0.2273799 - Valid loss: 0.3604387 - NUMBER OF BAD EPOCH.S: 1. Duration: 49.912 s\n",
      "Epoch 025/030\n"
     ]
    },
    {
     "name": "stderr",
     "output_type": "stream",
     "text": [
      "100%|██████████| 20/20 [00:40<00:00,  2.04s/it, batch=20/20, lr=1e-5, train_loss=0.264]\n",
      "100%|██████████| 5/5 [00:08<00:00,  1.79s/it, batch=5/5, dev_loss=0.4]  \n"
     ]
    },
    {
     "name": "stdout",
     "output_type": "stream",
     "text": [
      "Finished epoch 025/030 - Train loss: 0.2206394 - Valid loss: 0.3243571 - SAVED (NEW) BEST MODEL. Duration: 49.790 s\n",
      "Epoch 026/030\n"
     ]
    },
    {
     "name": "stderr",
     "output_type": "stream",
     "text": [
      "100%|██████████| 20/20 [00:41<00:00,  2.05s/it, batch=20/20, lr=1e-5, train_loss=0.317]\n",
      "100%|██████████| 5/5 [00:09<00:00,  1.88s/it, batch=5/5, dev_loss=0.264]\n"
     ]
    },
    {
     "name": "stdout",
     "output_type": "stream",
     "text": [
      "Finished epoch 026/030 - Train loss: 0.2187609 - Valid loss: 0.3331232 - NUMBER OF BAD EPOCH.S: 1. Duration: 50.440 s\n",
      "Epoch 027/030\n"
     ]
    },
    {
     "name": "stderr",
     "output_type": "stream",
     "text": [
      "100%|██████████| 20/20 [00:40<00:00,  2.03s/it, batch=20/20, lr=1e-5, train_loss=0.232]\n",
      "100%|██████████| 5/5 [00:08<00:00,  1.79s/it, batch=5/5, dev_loss=0.243]\n"
     ]
    },
    {
     "name": "stdout",
     "output_type": "stream",
     "text": [
      "Finished epoch 027/030 - Train loss: 0.2291116 - Valid loss: 0.3112364 - SAVED (NEW) BEST MODEL. Duration: 49.645 s\n",
      "Epoch 028/030\n"
     ]
    },
    {
     "name": "stderr",
     "output_type": "stream",
     "text": [
      "100%|██████████| 20/20 [00:40<00:00,  2.04s/it, batch=20/20, lr=1e-5, train_loss=0.136]\n",
      "100%|██████████| 5/5 [00:09<00:00,  1.88s/it, batch=5/5, dev_loss=0.305]\n"
     ]
    },
    {
     "name": "stdout",
     "output_type": "stream",
     "text": [
      "Finished epoch 028/030 - Train loss: 0.2072894 - Valid loss: 0.3235063 - NUMBER OF BAD EPOCH.S: 1. Duration: 50.242 s\n",
      "Epoch 029/030\n"
     ]
    },
    {
     "name": "stderr",
     "output_type": "stream",
     "text": [
      "100%|██████████| 20/20 [00:41<00:00,  2.07s/it, batch=20/20, lr=1e-5, train_loss=0.183]\n",
      "100%|██████████| 5/5 [00:08<00:00,  1.74s/it, batch=5/5, dev_loss=0.2]  \n"
     ]
    },
    {
     "name": "stdout",
     "output_type": "stream",
     "text": [
      "Finished epoch 029/030 - Train loss: 0.1981710 - Valid loss: 0.3079689 - SAVED (NEW) BEST MODEL. Duration: 50.086 s\n",
      "Epoch 030/030\n"
     ]
    },
    {
     "name": "stderr",
     "output_type": "stream",
     "text": [
      "100%|██████████| 20/20 [00:41<00:00,  2.06s/it, batch=20/20, lr=1e-5, train_loss=0.16] \n",
      "100%|██████████| 5/5 [00:09<00:00,  1.81s/it, batch=5/5, dev_loss=0.312]\n"
     ]
    },
    {
     "name": "stdout",
     "output_type": "stream",
     "text": [
      "Finished epoch 030/030 - Train loss: 0.1783606 - Valid loss: 0.2730992 - SAVED (NEW) BEST MODEL. Duration: 50.290 s\n"
     ]
    }
   ],
   "source": [
    "import torch.optim as optim\n",
    "\n",
    "from src.models.models import learning_loop\n",
    "from src.models.losses import TripletSemiPosMarginWithDistanceLoss\n",
    "\n",
    "\n",
    "optimizer = optim.Adam(model.parameters(), lr=0.00001)\n",
    "# criterion = TripletMarginLoss(margin=1, p=2)\n",
    "lr_scheduler = None\n",
    "criterion = TripletSemiPosMarginWithDistanceLoss(margin=1)\n",
    "max_epochs = 30\n",
    "max_bad_epochs = max_epochs\n",
    "\n",
    "\n",
    "history = learning_loop(model=model, device=device, \n",
    "                        optimizer=optimizer, lr_scheduler=lr_scheduler, criterion=criterion, \n",
    "                        max_epochs=max_epochs, max_bad_epochs=max_bad_epochs, \n",
    "                        train_dataloader=train_dataloader, val_dataloader=val_dataloader)"
   ]
  },
  {
   "cell_type": "markdown",
   "metadata": {},
   "source": [
    "### **2.5. Results and Conclusion**\n",
    "\n",
    "The training process is now complete. The training and validation loss history has been recorded, and the best model checkpoint has been saved to disk as `best.pt`.\n",
    "\n",
    "This model can now be used to extract semantically rich embeddings from new fashion images, powering applications like image search, product recommendation, and thematic clustering.\n"
   ]
  },
  {
   "cell_type": "code",
   "execution_count": 66,
   "metadata": {},
   "outputs": [
    {
     "name": "stderr",
     "output_type": "stream",
     "text": [
      "  0%|          | 0/23 [00:01<?, ?it/s]\n"
     ]
    }
   ],
   "source": [
    "from tqdm import tqdm\n",
    "\n",
    "for step, element in enumerate(tqdm(dataloader)):\n",
    "    anchor_img = element['anchor_image']['pixel_values'].to(device)\n",
    "    positive_img = element['pos_image']['pixel_values'].to(device)\n",
    "    negative_img = element['neg_image']['pixel_values'].to(device)\n",
    "    semipos = element['semipos'].to(device)\n",
    "    anchor_paths = element['anchor']\n",
    "    positive_paths = element['pos']\n",
    "    negative_paths = element['neg']\n",
    "    \n",
    "\n",
    "    with torch.no_grad():\n",
    "        anchor_out = model(anchor_img.squeeze())\n",
    "        positive_out = model(positive_img.squeeze())\n",
    "        negative_out = model(negative_img.squeeze())\n",
    "        \n",
    "\n",
    "    break\n",
    "    # positive_img = positive_img.to(device)\n",
    "    # negative_img = negative_img.to(device)\n",
    "    \n",
    "# #     optimizer.zero_grad()\n",
    "    # anchor_img = image_processor.preprocess(anchor_img, return_tensors='pt')\n",
    "    # anchor_out = model(anchor_img)\n",
    "    # break\n",
    "    # positive_out = model(positive_img)\n",
    "    # negative_out = model(negative_img)"
   ]
  },
  {
   "cell_type": "code",
   "execution_count": 65,
   "metadata": {},
   "outputs": [
    {
     "data": {
      "text/plain": [
       "1"
      ]
     },
     "execution_count": 65,
     "metadata": {},
     "output_type": "execute_result"
    }
   ],
   "source": [
    "len(positive_paths)"
   ]
  },
  {
   "cell_type": "code",
   "execution_count": 74,
   "metadata": {},
   "outputs": [],
   "source": [
    "import pandas as pd\n",
    "negatives = (anchor_out - negative_out).norm(p=2, dim=-1, keepdim=True).squeeze().cpu().numpy()\n",
    "positives = (anchor_out - positive_out).norm(p=2, dim=-1, keepdim=True).squeeze().cpu().numpy()\n",
    "semipos_numpy = semipos.cpu().numpy()\n",
    "df_res = pd.DataFrame({'pos_distances': positives, 'neg_distances': negatives, 'semipos': semipos_numpy,\n",
    "                       'difference': negatives - positives,\n",
    "                       'anchor_paths': anchor_paths, 'pos_paths': positive_paths, 'neg_paths': negative_paths})"
   ]
  },
  {
   "cell_type": "code",
   "execution_count": 84,
   "metadata": {},
   "outputs": [
    {
     "name": "stdout",
     "output_type": "stream",
     "text": [
      "0.921875\n"
     ]
    },
    {
     "data": {
      "text/html": [
       "<div>\n",
       "<style scoped>\n",
       "    .dataframe tbody tr th:only-of-type {\n",
       "        vertical-align: middle;\n",
       "    }\n",
       "\n",
       "    .dataframe tbody tr th {\n",
       "        vertical-align: top;\n",
       "    }\n",
       "\n",
       "    .dataframe thead th {\n",
       "        text-align: right;\n",
       "    }\n",
       "</style>\n",
       "<table border=\"1\" class=\"dataframe\">\n",
       "  <thead>\n",
       "    <tr style=\"text-align: right;\">\n",
       "      <th></th>\n",
       "      <th>pos_distances</th>\n",
       "      <th>neg_distances</th>\n",
       "      <th>semipos</th>\n",
       "      <th>difference</th>\n",
       "    </tr>\n",
       "  </thead>\n",
       "  <tbody>\n",
       "    <tr>\n",
       "      <th>count</th>\n",
       "      <td>25.000000</td>\n",
       "      <td>25.000000</td>\n",
       "      <td>25.000000</td>\n",
       "      <td>25.000000</td>\n",
       "    </tr>\n",
       "    <tr>\n",
       "      <th>mean</th>\n",
       "      <td>0.727154</td>\n",
       "      <td>1.510402</td>\n",
       "      <td>0.122493</td>\n",
       "      <td>0.783248</td>\n",
       "    </tr>\n",
       "    <tr>\n",
       "      <th>std</th>\n",
       "      <td>0.447770</td>\n",
       "      <td>0.260478</td>\n",
       "      <td>0.041703</td>\n",
       "      <td>0.469580</td>\n",
       "    </tr>\n",
       "    <tr>\n",
       "      <th>min</th>\n",
       "      <td>0.213573</td>\n",
       "      <td>0.723187</td>\n",
       "      <td>0.062500</td>\n",
       "      <td>0.003665</td>\n",
       "    </tr>\n",
       "    <tr>\n",
       "      <th>25%</th>\n",
       "      <td>0.341336</td>\n",
       "      <td>1.417784</td>\n",
       "      <td>0.090909</td>\n",
       "      <td>0.375635</td>\n",
       "    </tr>\n",
       "    <tr>\n",
       "      <th>50%</th>\n",
       "      <td>0.577792</td>\n",
       "      <td>1.561155</td>\n",
       "      <td>0.125000</td>\n",
       "      <td>0.864405</td>\n",
       "    </tr>\n",
       "    <tr>\n",
       "      <th>75%</th>\n",
       "      <td>0.973428</td>\n",
       "      <td>1.707536</td>\n",
       "      <td>0.153846</td>\n",
       "      <td>1.192614</td>\n",
       "    </tr>\n",
       "    <tr>\n",
       "      <th>max</th>\n",
       "      <td>1.823732</td>\n",
       "      <td>1.885392</td>\n",
       "      <td>0.200000</td>\n",
       "      <td>1.386325</td>\n",
       "    </tr>\n",
       "  </tbody>\n",
       "</table>\n",
       "</div>"
      ],
      "text/plain": [
       "       pos_distances  neg_distances    semipos  difference\n",
       "count      25.000000      25.000000  25.000000   25.000000\n",
       "mean        0.727154       1.510402   0.122493    0.783248\n",
       "std         0.447770       0.260478   0.041703    0.469580\n",
       "min         0.213573       0.723187   0.062500    0.003665\n",
       "25%         0.341336       1.417784   0.090909    0.375635\n",
       "50%         0.577792       1.561155   0.125000    0.864405\n",
       "75%         0.973428       1.707536   0.153846    1.192614\n",
       "max         1.823732       1.885392   0.200000    1.386325"
      ]
     },
     "execution_count": 84,
     "metadata": {},
     "output_type": "execute_result"
    }
   ],
   "source": [
    "well_classified = df_res[df_res['difference'] > 0]\n",
    "print(len(well_classified)/len(df_res)) # 92%\n",
    "well_classified[well_classified.semipos > 0].describe()"
   ]
  },
  {
   "cell_type": "code",
   "execution_count": 85,
   "metadata": {},
   "outputs": [
    {
     "data": {
      "text/html": [
       "<div>\n",
       "<style scoped>\n",
       "    .dataframe tbody tr th:only-of-type {\n",
       "        vertical-align: middle;\n",
       "    }\n",
       "\n",
       "    .dataframe tbody tr th {\n",
       "        vertical-align: top;\n",
       "    }\n",
       "\n",
       "    .dataframe thead th {\n",
       "        text-align: right;\n",
       "    }\n",
       "</style>\n",
       "<table border=\"1\" class=\"dataframe\">\n",
       "  <thead>\n",
       "    <tr style=\"text-align: right;\">\n",
       "      <th></th>\n",
       "      <th>pos_distances</th>\n",
       "      <th>neg_distances</th>\n",
       "      <th>semipos</th>\n",
       "      <th>difference</th>\n",
       "    </tr>\n",
       "  </thead>\n",
       "  <tbody>\n",
       "    <tr>\n",
       "      <th>count</th>\n",
       "      <td>34.000000</td>\n",
       "      <td>34.000000</td>\n",
       "      <td>34.0</td>\n",
       "      <td>34.000000</td>\n",
       "    </tr>\n",
       "    <tr>\n",
       "      <th>mean</th>\n",
       "      <td>0.567080</td>\n",
       "      <td>1.566481</td>\n",
       "      <td>0.0</td>\n",
       "      <td>0.999401</td>\n",
       "    </tr>\n",
       "    <tr>\n",
       "      <th>std</th>\n",
       "      <td>0.415230</td>\n",
       "      <td>0.216463</td>\n",
       "      <td>0.0</td>\n",
       "      <td>0.426362</td>\n",
       "    </tr>\n",
       "    <tr>\n",
       "      <th>min</th>\n",
       "      <td>0.101041</td>\n",
       "      <td>0.633963</td>\n",
       "      <td>0.0</td>\n",
       "      <td>0.116095</td>\n",
       "    </tr>\n",
       "    <tr>\n",
       "      <th>25%</th>\n",
       "      <td>0.227587</td>\n",
       "      <td>1.518892</td>\n",
       "      <td>0.0</td>\n",
       "      <td>0.797545</td>\n",
       "    </tr>\n",
       "    <tr>\n",
       "      <th>50%</th>\n",
       "      <td>0.422938</td>\n",
       "      <td>1.591860</td>\n",
       "      <td>0.0</td>\n",
       "      <td>1.051586</td>\n",
       "    </tr>\n",
       "    <tr>\n",
       "      <th>75%</th>\n",
       "      <td>0.785881</td>\n",
       "      <td>1.688899</td>\n",
       "      <td>0.0</td>\n",
       "      <td>1.330646</td>\n",
       "    </tr>\n",
       "    <tr>\n",
       "      <th>max</th>\n",
       "      <td>1.653002</td>\n",
       "      <td>1.840469</td>\n",
       "      <td>0.0</td>\n",
       "      <td>1.665261</td>\n",
       "    </tr>\n",
       "  </tbody>\n",
       "</table>\n",
       "</div>"
      ],
      "text/plain": [
       "       pos_distances  neg_distances  semipos  difference\n",
       "count      34.000000      34.000000     34.0   34.000000\n",
       "mean        0.567080       1.566481      0.0    0.999401\n",
       "std         0.415230       0.216463      0.0    0.426362\n",
       "min         0.101041       0.633963      0.0    0.116095\n",
       "25%         0.227587       1.518892      0.0    0.797545\n",
       "50%         0.422938       1.591860      0.0    1.051586\n",
       "75%         0.785881       1.688899      0.0    1.330646\n",
       "max         1.653002       1.840469      0.0    1.665261"
      ]
     },
     "execution_count": 85,
     "metadata": {},
     "output_type": "execute_result"
    }
   ],
   "source": [
    "well_classified[well_classified.semipos == 0].describe()"
   ]
  }
 ],
 "metadata": {
  "kernelspec": {
   "display_name": "theseeker",
   "language": "python",
   "name": "theseeker"
  },
  "language_info": {
   "codemirror_mode": {
    "name": "ipython",
    "version": 3
   },
   "file_extension": ".py",
   "mimetype": "text/x-python",
   "name": "python",
   "nbconvert_exporter": "python",
   "pygments_lexer": "ipython3",
   "version": "3.11.3"
  },
  "orig_nbformat": 4
 },
 "nbformat": 4,
 "nbformat_minor": 2
}
